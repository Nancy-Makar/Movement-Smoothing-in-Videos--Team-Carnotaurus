{
  "nbformat": 4,
  "nbformat_minor": 0,
  "metadata": {
    "colab": {
      "name": "Frame_adder.ipynb",
      "provenance": []
    },
    "kernelspec": {
      "name": "python3",
      "display_name": "Python 3"
    },
    "language_info": {
      "name": "python"
    }
  },
  "cells": [
    {
      "cell_type": "code",
      "metadata": {
        "id": "ZxWLBpqReVKz"
      },
      "source": [
        "import cv2\n",
        "import numpy as np\n",
        "import os\n",
        "from PIL import Image\n",
        "from os.path import isfile, join"
      ],
      "execution_count": 68,
      "outputs": []
    },
    {
      "cell_type": "markdown",
      "metadata": {
        "id": "hBeQ1RnJyqDo"
      },
      "source": [
        "Make a new folder called video_frames, and also add a video to the content folder"
      ]
    },
    {
      "cell_type": "code",
      "metadata": {
        "id": "Xn7NAKT4yEDW"
      },
      "source": [
        "vidcap = cv2.VideoCapture('/content/IMG_0125.mp4') #put path to video\n",
        "success,image = vidcap.read()\n",
        "count = 0\n",
        "while success:\n",
        "  cv2.imwrite(\"/video_frames/frame%d.jpg\" % count, image)     # save frame as JPEG file      \n",
        "  success,image = vidcap.read()\n",
        "  print('Read a new frame: ', success)\n",
        "  count += 1"
      ],
      "execution_count": null,
      "outputs": []
    },
    {
      "cell_type": "markdown",
      "metadata": {
        "id": "y_cCvoNdzeh_"
      },
      "source": [
        "Following function based on function from https://www.life2coding.com/convert-image-frames-video-file-using-opencv-python/. Image is the image you want to insert into a video, and frame_number is the frame at which you want to insert in. The function will insert the frame at the frame number. If the frame_number ie less than 0 or more than the total amount of frames, it will just return the original video. Image will be resized to fit the format of the video. frames is how many frames of that inserted image you want to add in."
      ]
    },
    {
      "cell_type": "code",
      "metadata": {
        "id": "t6U-Q8z5zSfH"
      },
      "source": [
        "def convert_frames_to_video(pathIn,pathOut,fps,image,frame_number,frames):\n",
        "    frame_array = []\n",
        "    files = [f for f in os.listdir(pathIn) if isfile(join(pathIn, f))]\n",
        "    height, width, _ = cv2.imread(pathIn + '/' + files[0]).shape\n",
        "\n",
        "    new_image = cv2.imread(image)\n",
        "    img = Image.fromarray(new_image, 'RGB')\n",
        "    new_img_resize = img.resize((width, height))\n",
        "    print('Image width resized to: ',width)\n",
        "    print('Image height resized to: ',height)\n",
        "    new_img_final = np.asarray(new_img_resize)\n",
        "\n",
        "    #for sorting the file names properly\n",
        "    files.sort(key = lambda x: int(x[5:-4]))\n",
        "    for i in range(len(files)):\n",
        "        if i == frame_number:\n",
        "          for x in range(frames):\n",
        "            frame_array.append(new_img_final)\n",
        "            print('Image inserted at frame: ',i + x)\n",
        "           \n",
        "        filename=pathIn + '/' + files[i]\n",
        "        #reading each files\n",
        "        img = cv2.imread(filename)    \n",
        "        height, width, layers = img.shape\n",
        "        size = (width,height)\n",
        "        #print(filename)\n",
        "        #inserting the frames into an image array\n",
        "        frame_array.append(img)\n",
        "        \n",
        "    out = cv2.VideoWriter(pathOut,cv2.VideoWriter_fourcc(*'DIVX'), fps, size)\n",
        "    for i in range(len(frame_array)):\n",
        "        # writing to a image array\n",
        "        out.write(frame_array[i])\n",
        "    out.release()"
      ],
      "execution_count": 87,
      "outputs": []
    },
    {
      "cell_type": "markdown",
      "metadata": {
        "id": "NBZfT-IWDP62"
      },
      "source": [
        "I made a new folder called new_video here as well to store the video created by the function."
      ]
    },
    {
      "cell_type": "code",
      "metadata": {
        "id": "m4IrZfDq0bGp"
      },
      "source": [
        "convert_frames_to_video('/video_frames','/new_video/output.avi',30,'/content/ws_Blue_1280x720.jpg',100,50)"
      ],
      "execution_count": null,
      "outputs": []
    },
    {
      "cell_type": "markdown",
      "metadata": {
        "id": "XBLqmuidCkpE"
      },
      "source": [
        "You can use this to check if the frames were added."
      ]
    },
    {
      "cell_type": "code",
      "metadata": {
        "id": "ipMMCYRN95-Z"
      },
      "source": [
        "vidcap = cv2.VideoCapture('/new_video/output.avi')\n",
        "success,image = vidcap.read()\n",
        "count = 0\n",
        "while success:\n",
        "  cv2.imwrite(\"/video_check/frame%d.jpg\" % count, image)     # save frame as JPEG file      \n",
        "  success,image = vidcap.read()\n",
        "  print('Read a new frame: ', success)\n",
        "  count += 1"
      ],
      "execution_count": null,
      "outputs": []
    }
  ]
}